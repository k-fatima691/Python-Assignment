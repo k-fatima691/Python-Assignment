{
 "cells": [
  {
   "cell_type": "code",
   "execution_count": 7,
   "metadata": {},
   "outputs": [
    {
     "name": "stdout",
     "output_type": "stream",
     "text": [
      "Input a number to compute the factorial:3\n",
      "6\n"
     ]
    }
   ],
   "source": [
    "#Python function to calculate factorial of a number\n",
    "def factorial_of_num(n):\n",
    "    if n == 0:\n",
    "        return 1\n",
    "    else:\n",
    "        return n * factorial(n-1)\n",
    "n=int(input(\"Input a number to compute the factorial:\"))\n",
    "print(factorial_of_num(n))"
   ]
  },
  {
   "cell_type": "code",
   "execution_count": 8,
   "metadata": {},
   "outputs": [
    {
     "name": "stdout",
     "output_type": "stream",
     "text": [
      "Original String: The quick Brown Fox jumps the lazy Black Dog.\n",
      "No. of Upper case characters: 5\n",
      "No. of Lower case Characters: 31\n"
     ]
    }
   ],
   "source": [
    "#Python function to calculate the number of upper and lower case letters\n",
    "def string(s):\n",
    "    case={\"Upper_Case\":0, \"Lower_Case\":0}\n",
    "    for c in s:\n",
    "        if c.isupper():\n",
    "           case[\"Upper_Case\"]+=1\n",
    "        elif c.islower():\n",
    "           case[\"Lower_Case\"]+=1\n",
    "        else:\n",
    "           pass\n",
    "    print (\"Original String:\",s)\n",
    "    print (\"No. of Upper case characters:\",case[\"Upper_Case\"])\n",
    "    print (\"No. of Lower case Characters:\",case[\"Lower_Case\"])\n",
    "\n",
    "string('The quick Brown Fox jumps the lazy Black Dog.')"
   ]
  },
  {
   "cell_type": "code",
   "execution_count": 9,
   "metadata": {},
   "outputs": [
    {
     "name": "stdout",
     "output_type": "stream",
     "text": [
      "[54, 4, 62, 90]\n"
     ]
    }
   ],
   "source": [
    "#Python function to print even numbers from list\n",
    "def even_num(num):\n",
    "    enum = []\n",
    "    for n in num:\n",
    "        if n % 2 == 0:\n",
    "            enum.append(n)\n",
    "    return enum\n",
    "print(even_num([721, 54, 4, 893, 62,90]))"
   ]
  },
  {
   "cell_type": "code",
   "execution_count": 10,
   "metadata": {},
   "outputs": [
    {
     "name": "stdout",
     "output_type": "stream",
     "text": [
      "True\n"
     ]
    }
   ],
   "source": [
    "#Python function to check if string is palindrome or not\n",
    "def is_string_palindrome(string):\n",
    "    left_pos = 0\n",
    "    right_pos = len(string) - 1\n",
    "\n",
    "    while right_pos >= left_pos:\n",
    "        if not string[left_pos] == string[right_pos]:\n",
    "            return False\n",
    "        left_pos += 1\n",
    "        right_pos -= 1\n",
    "    return True\n",
    "print(is_string_palindrome('eve')) "
   ]
  },
  {
   "cell_type": "code",
   "execution_count": 11,
   "metadata": {},
   "outputs": [
    {
     "name": "stdout",
     "output_type": "stream",
     "text": [
      "True\n"
     ]
    }
   ],
   "source": [
    "#Python function to check if number is prime or not\n",
    "def check_if_prime(n):\n",
    "    if (n==1):\n",
    "        return False\n",
    "    elif (n==2):\n",
    "        return True;\n",
    "    else:\n",
    "        for x in range(2,n):\n",
    "            if(n % x==0):\n",
    "                return False\n",
    "        return True             \n",
    "print(check_if_prime(23))"
   ]
  },
  {
   "cell_type": "code",
   "execution_count": 12,
   "metadata": {},
   "outputs": [
    {
     "name": "stdout",
     "output_type": "stream",
     "text": [
      "Customer shopping list:\n",
      "Cereal\n",
      "Frozen dinners\n",
      "Salty snacks\n",
      "Milk\n",
      "Bread\n"
     ]
    }
   ],
   "source": [
    "#Python function to accept and print multiple arguments\n",
    "def customer(*groceries):\n",
    "    print(\"Customer shopping list:\")\n",
    "    for items in groceries:\n",
    "        print(items)\n",
    "    \n",
    "customer(\"Cereal\\nFrozen dinners\\nSalty snacks\\nMilk\\nBread\")"
   ]
  },
  {
   "cell_type": "code",
   "execution_count": null,
   "metadata": {},
   "outputs": [],
   "source": []
  }
 ],
 "metadata": {
  "kernelspec": {
   "display_name": "Python 3",
   "language": "python",
   "name": "python3"
  },
  "language_info": {
   "codemirror_mode": {
    "name": "ipython",
    "version": 3
   },
   "file_extension": ".py",
   "mimetype": "text/x-python",
   "name": "python",
   "nbconvert_exporter": "python",
   "pygments_lexer": "ipython3",
   "version": "3.7.4"
  }
 },
 "nbformat": 4,
 "nbformat_minor": 2
}
