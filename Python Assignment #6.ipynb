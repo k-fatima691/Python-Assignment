{
 "cells": [
  {
   "cell_type": "markdown",
   "metadata": {},
   "source": [
    "Question 1:\n",
    "# Object Oriented Programming (OOP)\n",
    "Object Oriented Programming (OOP) is a programming paradigm based on the concept of \"objects\" containing data in form of fields as attributes or properties and code in the form of procedures called methods. A feature of object is an object's procedure that can access and often modify the data fields of the object with which they are associated."
   ]
  },
  {
   "cell_type": "markdown",
   "metadata": {},
   "source": [
    "Question 2:\n",
    "# Benefits of OOP\n",
    "1.Modularity for easier trouble shooting.\n",
    "2.Reuse of code through inheritance.\n",
    "3.Flexibility through polymorphism.\n",
    "4.Effective problem solving."
   ]
  },
  {
   "cell_type": "markdown",
   "metadata": {},
   "source": [
    "Question 3:\n",
    "# Difference between Function and Method\n",
    "A function is a block of code to carry out a specific task,contains its own scope and is called by name.\n",
    "A method is same as function but it is associated with object and classes.A method is really similar to function except for 2 major differences.\n",
    "\n",
    "\n",
    "1.The method is implicitly used for an object it is called.\n",
    "2.The method is accessible to data that is contained within class.\n"
   ]
  },
  {
   "cell_type": "markdown",
   "metadata": {},
   "source": [
    "Question 4:\n",
    "# Class\n",
    "A class is a code template for creating objects.In python class is created by the keyword \"class\".Class is blueprint for the object.\n",
    "# Object\n",
    "Object is a collection of data (variables) and methods (functions) that act on those data.An object is created using constructor of the class.This object will then be called the instance of the class.\n",
    "# Attribute\n",
    "An instance attribute is a python variable belonging to one and only one object whereas a class attribute is a python variable that belongs to a class rather than a particular object.It is shared among all the objects of this class and is defined outside the constructor function.\n",
    "# Behaviour\n",
    "Behaviour provides a language suitable for Behaviour Driven Development (BDD) as opposed to post-coding unit testing.It operates as a facade over Python unit testing framework.\n"
   ]
  },
  {
   "cell_type": "code",
   "execution_count": 3,
   "metadata": {},
   "outputs": [
    {
     "name": "stdout",
     "output_type": "stream",
     "text": [
      "Name: Toyota\n",
      "Model: Corolla\n",
      "Mileage: 28 kmpl\n",
      "Colour: Black\n",
      "New colour: White\n",
      "Year before: 2006\n",
      "Year now: 2019\n"
     ]
    }
   ],
   "source": [
    "class Car():\n",
    "##Instantiation method\n",
    "    def __init__(self,name,model,colour,mileage,year):\n",
    "##Attributes\n",
    "        self.name = name\n",
    "        self.model = model\n",
    "        self.colour = colour\n",
    "        self.mileage = mileage\n",
    "        self.year = year\n",
    "       \n",
    " ##Method for updating colour\n",
    "    def updatecolour(self,newcolour):\n",
    "        self.colour=newcolour\n",
    " ##Method for updating year\n",
    "    def updateyear(self,newyear):\n",
    "        self.year += newyear\n",
    "#Instance \n",
    "car_info = Car(\"Toyota\",\"Corolla\",\"Black\",\"28 kmpl\",2006)\n",
    "##Printing\n",
    "print(\"Name:\",car_info.name)\n",
    "print(\"Model:\",car_info.model)\n",
    "print(\"Mileage:\",car_info.mileage)\n",
    "print(\"Colour:\",car_info.colour)\n",
    "car_info.updatecolour(\"New colour: White\")\n",
    "print(car_info.colour)\n",
    "print(\"Year before:\",car_info.year)\n",
    "car_info.updateyear(13)\n",
    "print(\"Year now:\",car_info.year)"
   ]
  },
  {
   "cell_type": "code",
   "execution_count": null,
   "metadata": {},
   "outputs": [],
   "source": []
  }
 ],
 "metadata": {
  "kernelspec": {
   "display_name": "Python 3",
   "language": "python",
   "name": "python3"
  },
  "language_info": {
   "codemirror_mode": {
    "name": "ipython",
    "version": 3
   },
   "file_extension": ".py",
   "mimetype": "text/x-python",
   "name": "python",
   "nbconvert_exporter": "python",
   "pygments_lexer": "ipython3",
   "version": "3.7.4"
  }
 },
 "nbformat": 4,
 "nbformat_minor": 2
}
