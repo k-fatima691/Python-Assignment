{
 "cells": [
  {
   "cell_type": "code",
   "execution_count": 7,
   "metadata": {},
   "outputs": [
    {
     "name": "stdout",
     "output_type": "stream",
     "text": [
      "{'first_name': 'Ahmed', 'last_name': 'Qazi', 'age': 40, 'city': 'Karachi'}\n",
      "{'first_name': 'Ahmed', 'last_name': 'Qazi', 'age': 40, 'city': 'Karachi', 'Qualification': 'Matric'}\n",
      "{'first_name': 'Ahmed', 'last_name': 'Qazi', 'age': 40, 'city': 'Karachi', 'Qualification': 'PhD'}\n",
      "{'first_name': 'Ahmed', 'last_name': 'Qazi', 'age': 40, 'city': 'Karachi'}\n"
     ]
    }
   ],
   "source": [
    "#dictionary to store information about a person\n",
    "personal_data ={\n",
    "             \"first_name\":\"Ahmed\",\n",
    "              \"last_name\":\"Qazi\",\n",
    "              \"age\":40,\n",
    "              \"city\":\"Karachi\"\n",
    "}\n",
    "print(personal_data)\n",
    "#adding a new key value pair\n",
    "personal_data[\"Qualification\"]=\"Matric\"\n",
    "print(personal_data)\n",
    "#updating its value\n",
    "personal_data[\"Qualification\"]=\"PhD\"\n",
    "print(personal_data)\n",
    "#deleting it\n",
    "del(personal_data)[\"Qualification\"]\n",
    "print(personal_data)"
   ]
  },
  {
   "cell_type": "code",
   "execution_count": 13,
   "metadata": {},
   "outputs": [
    {
     "name": "stdout",
     "output_type": "stream",
     "text": [
      "{'Country': 'Pakistan', 'Population': '14.91 million', 'Fact': 'It was the first capital of Pakistan.'}\n",
      "{'Country': 'China', 'Population': '21.54 million', 'Fact': 'Beijing is second largest city of China.'}\n",
      "{'Country': 'France', 'Population': '2.14 million', 'Fact': 'Paris was originally a Roman city called Lutetia.'}\n"
     ]
    }
   ],
   "source": [
    "#making a dictionary of dictionaries\n",
    "cities = {\n",
    "   \"Karachi\": {\n",
    "                \"Country\":\"Pakistan\",\n",
    "                 \"Population\":\"14.91 million\",\n",
    "                 \"Fact\":\"It was the first capital of Pakistan.\"\n",
    "   },\n",
    "    \"Beijing\": {\n",
    "                \"Country\":\"China\",\n",
    "                \"Population\":\"21.54 million\",\n",
    "                 \"Fact\":\"Beijing is second largest city of China.\"\n",
    "   },\n",
    "    \"Paris\": {\n",
    "                \"Country\":\"France\",\n",
    "                \"Population\":\"2.14 million\",\n",
    "                 \"Fact\":\"Paris was originally a Roman city called Lutetia.\"\n",
    "   }\n",
    "}\n",
    "#printing\n",
    "print(cities[\"Karachi\"])\n",
    "print(cities[\"Beijing\"])\n",
    "print(cities[\"Paris\"])"
   ]
  },
  {
   "cell_type": "code",
   "execution_count": null,
   "metadata": {},
   "outputs": [
    {
     "name": "stdout",
     "output_type": "stream",
     "text": [
      "Enter your age:2\n",
      "Ticket is free\n",
      "Enter your age:34\n",
      "The cost of ticket is 15$\n",
      "Enter your age:5\n",
      "The cost of ticket is 10$\n"
     ]
    }
   ],
   "source": [
    "#asking for input\n",
    "data=\"Enter your age:\"\n",
    "#loop\n",
    "while True:\n",
    "    age=input(data)\n",
    "    age =int(age)\n",
    "#if age is under three ticket is free\n",
    "    if age < 3:\n",
    "        print(\"Ticket is free\")\n",
    "#if age is between 3 and 12 ticket is of 10$\n",
    "    elif age < 13:\n",
    "        print(\"The cost of ticket is 10$\")\n",
    "#if age is greater than 13 ticket is of 15$\n",
    "    else:\n",
    "        print(\"The cost of ticket is 15$\")"
   ]
  },
  {
   "cell_type": "code",
   "execution_count": 8,
   "metadata": {},
   "outputs": [
    {
     "name": "stdout",
     "output_type": "stream",
     "text": [
      "My favourite book is Harry Potter\n",
      "My favourite book is Harry Potter\n"
     ]
    }
   ],
   "source": [
    "#function favourite_book accepting title as parameter\n",
    "def favourite_book(title):\n",
    "    title=\"Harry Potter\"\n",
    "    print(\"My favourite book is Harry Potter\")\n",
    "favourite_book(\"Harry Potter\")\n",
    "#calling the function with book title as an argument\n",
    "favourite_book(\"Harry Potter\")"
   ]
  },
  {
   "cell_type": "code",
   "execution_count": 1,
   "metadata": {},
   "outputs": [
    {
     "name": "stdout",
     "output_type": "stream",
     "text": [
      "Guess the correct number:25\n",
      "The number is greater than the hidden number.\n",
      "Guess the correct number:18\n",
      "The number is greater than the hidden number.\n",
      "Guess the correct number:3\n",
      "The number is smaller than the hidden number.\n"
     ]
    }
   ],
   "source": [
    "#guess the number game\n",
    "#randomly generate a number between 1 and 30 \n",
    "import random\n",
    "number = random.randint(1,30)\n",
    "guess = 0\n",
    "count = 0\n",
    "#three chances to guess the correct number\n",
    "for i in range(0,3):\n",
    "    guess = input(\"Guess the correct number:\")\n",
    "    guess = int(guess)\n",
    "    count += 1\n",
    "#hint    \n",
    "    if guess < number:\n",
    "        print(\"The number is smaller than the hidden number.\")\n",
    "    elif guess > number:\n",
    "        print(\"The number is greater than the hidden number.\")\n",
    "    elif guess == number:\n",
    "        print(\"You have guessed correctly!\")\n",
    "        break"
   ]
  },
  {
   "cell_type": "code",
   "execution_count": null,
   "metadata": {},
   "outputs": [],
   "source": []
  },
  {
   "cell_type": "code",
   "execution_count": null,
   "metadata": {},
   "outputs": [],
   "source": []
  },
  {
   "cell_type": "code",
   "execution_count": null,
   "metadata": {},
   "outputs": [],
   "source": []
  }
 ],
 "metadata": {
  "kernelspec": {
   "display_name": "Python 3",
   "language": "python",
   "name": "python3"
  },
  "language_info": {
   "codemirror_mode": {
    "name": "ipython",
    "version": 3
   },
   "file_extension": ".py",
   "mimetype": "text/x-python",
   "name": "python",
   "nbconvert_exporter": "python",
   "pygments_lexer": "ipython3",
   "version": "3.7.4"
  }
 },
 "nbformat": 4,
 "nbformat_minor": 2
}
