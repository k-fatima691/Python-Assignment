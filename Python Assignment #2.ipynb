{
 "cells": [
  {
   "cell_type": "code",
   "execution_count": 1,
   "metadata": {},
   "outputs": [
    {
     "name": "stdout",
     "output_type": "stream",
     "text": [
      "MARKSHEET\n",
      "Enter marks of Maths out of 100:40\n",
      "Enter marks of Physics out of 100:76\n",
      "Enter marks of Chemistry out of 100:71\n",
      "Enter marks of English out of 100:80\n",
      "Enter marks of Urdu out of 100:78\n",
      "Total Marks are:345\n",
      "Percentage is:69.0\n",
      "Grade:B\n"
     ]
    }
   ],
   "source": [
    "print(\"MARKSHEET\")\n",
    "Maths=int(input(\"Enter marks of Maths out of 100:\"))\n",
    "Physics=int(input(\"Enter marks of Physics out of 100:\"))\n",
    "Chemistry=int(input(\"Enter marks of Chemistry out of 100:\"))\n",
    "English=int(input(\"Enter marks of English out of 100:\"))\n",
    "Urdu=int(input(\"Enter marks of Urdu out of 100:\"))\n",
    "Total_marks=Maths+Physics+Chemistry+English+Urdu\n",
    "print(\"Total Marks are:\" + str(Total_marks))\n",
    "Percentage=(Total_marks/500) * 100\n",
    "print(\"Percentage is:\" + str(Percentage))\n",
    "if Percentage >= 80 and Percentage < 100:\n",
    "   print(\"Grade:A+\")\n",
    "if Percentage >= 70 and Percentage < 80:\n",
    "   print(\"Grade:A\")\n",
    "if Percentage >= 60 and Percentage < 70:\n",
    "   print(\"Grade:B\")\n",
    "if Percentage >= 50 and Percentage < 60:\n",
    "   print(\"Grade:C\")\n",
    "if Percentage >= 40 and Percentage < 50:\n",
    "    print(\"Grade:D\")\n",
    "if Percentage >= 33 and Percentage < 40:\n",
    "   print(\"Grade:E\")\n",
    "if Percentage >= 0 and Percentage < 33:\n",
    "   print(\"Grade:F\") "
   ]
  },
  {
   "cell_type": "code",
   "execution_count": 2,
   "metadata": {},
   "outputs": [
    {
     "name": "stdout",
     "output_type": "stream",
     "text": [
      "Enter number:57\n",
      "This is an odd number.\n"
     ]
    }
   ],
   "source": [
    "#Identify the given number as even or odd\n",
    "num = int(input(\"Enter number:\"))\n",
    "mod = num % 2\n",
    "if mod > 0:\n",
    "   print(\"This is an odd number.\")\n",
    "else:\n",
    "    print(\"This is an even number.\")"
   ]
  },
  {
   "cell_type": "code",
   "execution_count": 3,
   "metadata": {},
   "outputs": [
    {
     "name": "stdout",
     "output_type": "stream",
     "text": [
      "The length of list is: 5\n"
     ]
    }
   ],
   "source": [
    "#Print length of the list\n",
    "greeting = []\n",
    "greeting.append(\"Hello\")\n",
    "greeting.append(\"world\")\n",
    "greeting.append(\"Its\")\n",
    "greeting.append(\"Kashish\")\n",
    "greeting.append(\"Fatima\")\n",
    "print(\"The length of list is:\", len(greeting))"
   ]
  },
  {
   "cell_type": "code",
   "execution_count": 4,
   "metadata": {},
   "outputs": [
    {
     "name": "stdout",
     "output_type": "stream",
     "text": [
      "92.9\n"
     ]
    }
   ],
   "source": [
    "#Sum all the numeric items in the list\n",
    "def numeric_list(items):\n",
    "    sum_of_numbers=0\n",
    "    for x in items:\n",
    "        sum_of_numbers += x\n",
    "    return sum_of_numbers\n",
    "print(numeric_list([98,2.9,-8]))"
   ]
  },
  {
   "cell_type": "code",
   "execution_count": 5,
   "metadata": {},
   "outputs": [
    {
     "name": "stdout",
     "output_type": "stream",
     "text": [
      "289\n"
     ]
    }
   ],
   "source": [
    "#Get the largest number from the list\n",
    "def max_num_in_list(list):\n",
    "    max = list[0]\n",
    "    for a in list:\n",
    "        if a > max:\n",
    "            max = a\n",
    "    return max\n",
    "print(max_num_in_list([13,289,-83,0.987]))"
   ]
  },
  {
   "cell_type": "code",
   "execution_count": 1,
   "metadata": {},
   "outputs": [
    {
     "name": "stdout",
     "output_type": "stream",
     "text": [
      "[1, 1, 2, 3]\n"
     ]
    }
   ],
   "source": [
    "#Print all out elements less than 5\n",
    "a = [1,1,2,3,5,8,13,21,34,55,89]\n",
    "b = []\n",
    "for i in a:\n",
    "    if i<5:\n",
    "       b.append(i)\n",
    "print(b)"
   ]
  },
  {
   "cell_type": "code",
   "execution_count": null,
   "metadata": {},
   "outputs": [],
   "source": []
  }
 ],
 "metadata": {
  "kernelspec": {
   "display_name": "Python 3",
   "language": "python",
   "name": "python3"
  },
  "language_info": {
   "codemirror_mode": {
    "name": "ipython",
    "version": 3
   },
   "file_extension": ".py",
   "mimetype": "text/x-python",
   "name": "python",
   "nbconvert_exporter": "python",
   "pygments_lexer": "ipython3",
   "version": "3.7.4"
  }
 },
 "nbformat": 4,
 "nbformat_minor": 2
}
