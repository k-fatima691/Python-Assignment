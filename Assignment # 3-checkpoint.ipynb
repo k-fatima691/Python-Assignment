{
 "cells": [
  {
   "cell_type": "code",
   "execution_count": 1,
   "metadata": {},
   "outputs": [
    {
     "name": "stdout",
     "output_type": "stream",
     "text": [
      "Enter First Number:5\n",
      "Enter Second Number:3\n",
      "Enter Operator:**\n",
      "125\n"
     ]
    }
   ],
   "source": [
    "# Calculator\n",
    "val1=int(input(\"Enter First Number:\"))\n",
    "val2=int(input(\"Enter Second Number:\"))\n",
    "operator=input(\"Enter Operator:\")\n",
    "#Addition\n",
    "if operator == \"+\":\n",
    "   val=val1 + val2\n",
    "   print(val)\n",
    "#Subtraction\n",
    "elif operator == \"-\":\n",
    "    val=val1 - val2\n",
    "    print(val)\n",
    "#Multiplication\n",
    "elif operator == \"*\":\n",
    "    val=val1 * val2\n",
    "    print(val)\n",
    "#Division\n",
    "elif operator == \"//\":\n",
    "    val=val1 // val2\n",
    "    print(val)\n",
    "#Power\n",
    "elif operator == \"**\":\n",
    "    val=val1 ** val2\n",
    "    print(val)\n",
    "else:\n",
    "     print(\"Invalid Input\")"
   ]
  },
  {
   "cell_type": "code",
   "execution_count": 2,
   "metadata": {},
   "outputs": [
    {
     "name": "stdout",
     "output_type": "stream",
     "text": [
      "Numeric value found: 67\n"
     ]
    }
   ],
   "source": [
    "#To check if there is any numeric vaue in list\n",
    "#Using for loop\n",
    "list=['Kashish','389',True,67]\n",
    "for value in list:\n",
    "    if type(value)==int or type(value)==float:\n",
    "        print(\"Numeric value found:\",(value))\n",
    "        break"
   ]
  },
  {
   "cell_type": "code",
   "execution_count": 3,
   "metadata": {},
   "outputs": [
    {
     "name": "stdout",
     "output_type": "stream",
     "text": [
      "{0: 109, 1: 287, 2: 345, 4: 575, 5: 689}\n"
     ]
    }
   ],
   "source": [
    "#Adding a key to a dictionary\n",
    "d={0:109,1:287,2:345,4:575}\n",
    "d.update({5:689})\n",
    "print(d)"
   ]
  },
  {
   "cell_type": "code",
   "execution_count": 4,
   "metadata": {},
   "outputs": [
    {
     "name": "stdout",
     "output_type": "stream",
     "text": [
      "Total sum of values in dictionary:\n",
      "7\n"
     ]
    }
   ],
   "source": [
    "#To sum all the numeric items in a dictionary\n",
    "d={1:10,2:-5,3:2}\n",
    "print(\"Total sum of values in dictionary:\")\n",
    "print(sum(d.values()))"
   ]
  },
  {
   "cell_type": "code",
   "execution_count": 5,
   "metadata": {},
   "outputs": [
    {
     "name": "stdout",
     "output_type": "stream",
     "text": [
      "[1, 2, 5, 9]\n"
     ]
    }
   ],
   "source": [
    "#To identify duplicate values from list\n",
    "list=[1,1,2,2,3,5,5,7,9,9]\n",
    "def Repeat(x): \n",
    "    a=len(x) \n",
    "    b=[] \n",
    "    for i in range(a): \n",
    "        k=i + 1\n",
    "        for j in range(k, a): \n",
    "            if x[i] == x[j] and x[i] not in b: \n",
    "                b.append(x[i]) \n",
    "    return b  \n",
    "print(Repeat(list))"
   ]
  },
  {
   "cell_type": "code",
   "execution_count": 7,
   "metadata": {},
   "outputs": [
    {
     "name": "stdout",
     "output_type": "stream",
     "text": [
      "Key is present in the dictionary\n",
      "Key is not present in the dictionary\n"
     ]
    }
   ],
   "source": [
    "#To check if a key already exists in a dictionary\n",
    "dict={1: \"100\", 2:\"k.f\", 3: 3.0, 4:False, 5:'Fatima', 6: 60}\n",
    "def is_key_present(x):\n",
    "     \n",
    "    if x in dict:\n",
    "       print('Key is present in the dictionary')\n",
    "    else:\n",
    "       print('Key is not present in the dictionary')\n",
    "is_key_present(4)\n",
    "is_key_present(9)"
   ]
  },
  {
   "cell_type": "code",
   "execution_count": null,
   "metadata": {},
   "outputs": [],
   "source": []
  }
 ],
 "metadata": {
  "kernelspec": {
   "display_name": "Python 3",
   "language": "python",
   "name": "python3"
  },
  "language_info": {
   "codemirror_mode": {
    "name": "ipython",
    "version": 3
   },
   "file_extension": ".py",
   "mimetype": "text/x-python",
   "name": "python",
   "nbconvert_exporter": "python",
   "pygments_lexer": "ipython3",
   "version": "3.7.4"
  }
 },
 "nbformat": 4,
 "nbformat_minor": 2
}
